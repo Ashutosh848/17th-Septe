{
 "cells": [
  {
   "cell_type": "code",
   "execution_count": 1,
   "id": "9552176d-1a0a-4531-a453-f17457b92d38",
   "metadata": {},
   "outputs": [
    {
     "name": "stdout",
     "output_type": "stream",
     "text": [
      "Verna\n",
      "24\n"
     ]
    }
   ],
   "source": [
    "class Vehicle:\n",
    "    def __init__(self,make,model,num_door):\n",
    "        self.num_door = num_door\n",
    "        self.make = make\n",
    "        self.model = model\n",
    "class Car(Vehicle):\n",
    "    def method(self):\n",
    "        print(self.model)\n",
    "        print(self.num_door)\n",
    "\n",
    "\n",
    "c = Vehicle(2024,\"Verna\",23)\n",
    "a = Car(2024,\"Verna\",24)\n",
    "a.method()"
   ]
  },
  {
   "cell_type": "code",
   "execution_count": 5,
   "id": "4e59db28-b06a-44de-a3c8-4ef236088b4b",
   "metadata": {},
   "outputs": [
    {
     "name": "stdout",
     "output_type": "stream",
     "text": [
      "Area is: 576\n",
      "Area is: 92\n"
     ]
    }
   ],
   "source": [
    "class Shape:\n",
    "    def area(self):\n",
    "        raise NotImplementedError(\"XYZ\")\n",
    "class Circle(Shape):\n",
    "    def __init__(self,side):\n",
    "        self.side = side\n",
    "    def area(self):\n",
    "        return self.side**2\n",
    "\n",
    "class Rectangle(Shape):\n",
    "    def __init__(self,length,width):\n",
    "        self.length = length\n",
    "        self.width = width\n",
    "    def area(self):\n",
    "        return self.length*self.width\n",
    "def pr(Shape):\n",
    "    print(\"Area is:\",Shape.area())\n",
    "\n",
    "a = Circle(24)\n",
    "pr(a)\n",
    "b = Rectangle(23,4)\n",
    "pr(b)"
   ]
  },
  {
   "cell_type": "code",
   "execution_count": 29,
   "id": "48a44227-86f6-452c-ae09-b5962748a444",
   "metadata": {},
   "outputs": [
    {
     "name": "stdout",
     "output_type": "stream",
     "text": [
      "Ashutosh\n",
      "120000\n",
      "IT\n"
     ]
    },
    {
     "data": {
      "text/plain": [
       "'IT'"
      ]
     },
     "execution_count": 29,
     "metadata": {},
     "output_type": "execute_result"
    }
   ],
   "source": [
    "class Employee:\n",
    "    def __init__(self,name,salary):\n",
    "        self.name = name\n",
    "        self.salary = salary\n",
    "class Manager(Employee):\n",
    "    def method(self,department):\n",
    "        self.department = department\n",
    "        print(self.name)\n",
    "        print(self.salary)\n",
    "        print(self.department)\n",
    "    \n",
    "a = Manager(\"Ashutosh\",120000)\n",
    "a.method(\"IT\")\n"
   ]
  },
  {
   "cell_type": "code",
   "execution_count": 26,
   "id": "276aace6-6b06-46d5-b960-6ad8c548fa16",
   "metadata": {},
   "outputs": [
    {
     "name": "stdout",
     "output_type": "stream",
     "text": [
      "The Dog Barks\n",
      "The cat Meows\n"
     ]
    },
    {
     "ename": "TypeError",
     "evalue": "'str' object is not callable",
     "output_type": "error",
     "traceback": [
      "\u001b[1;31m---------------------------------------------------------------------------\u001b[0m",
      "\u001b[1;31mTypeError\u001b[0m                                 Traceback (most recent call last)",
      "Cell \u001b[1;32mIn[26], line 19\u001b[0m\n\u001b[0;32m     17\u001b[0m b \u001b[38;5;241m=\u001b[39m Cat(\u001b[38;5;124m\"\u001b[39m\u001b[38;5;124mBarks\u001b[39m\u001b[38;5;124m\"\u001b[39m,\u001b[38;5;124m\"\u001b[39m\u001b[38;5;124mMeows\u001b[39m\u001b[38;5;124m\"\u001b[39m)\n\u001b[0;32m     18\u001b[0m b\u001b[38;5;241m.\u001b[39mspeak()\n\u001b[1;32m---> 19\u001b[0m a\u001b[38;5;241m.\u001b[39mdog()\n",
      "\u001b[1;31mTypeError\u001b[0m: 'str' object is not callable"
     ]
    }
   ],
   "source": [
    "class Animal:\n",
    "    def __init__(self,dog,cat):\n",
    "        self.dog = dog\n",
    "        self.cat = cat\n",
    "    def speak(self):\n",
    "        raise NotImplementedError(\"XYZ\")\n",
    "class Dog(Animal):\n",
    "    def speak(self):\n",
    "        print(f\"The Dog {self.dog}\")\n",
    "class Cat(Animal):\n",
    "    def speak(self):\n",
    "        print(f\"The cat {self.cat}\")\n",
    "\n",
    "\n",
    "a = Dog(\"Barks\",\"Meows\")\n",
    "a.speak()\n",
    "b = Cat(\"Barks\",\"Meows\")\n",
    "b.speak()\n"
   ]
  },
  {
   "cell_type": "code",
   "execution_count": 14,
   "id": "20a14464-6823-4e6b-9807-e95dc9f7eaf7",
   "metadata": {},
   "outputs": [
    {
     "name": "stdout",
     "output_type": "stream",
     "text": [
      "Ashutosh Tiwari\n",
      "20\n",
      "76%\n"
     ]
    }
   ],
   "source": [
    "class Person:\n",
    "    def intro(self):\n",
    "        raise NotImplementedError(\"Not Implemented\")\n",
    "class Student(Person):\n",
    "    def __init__(self,name,age,percent):\n",
    "        self.name = name\n",
    "        self.age = age\n",
    "        self.percent = percent\n",
    "    def intro(self):\n",
    "        print(self.name)\n",
    "        print(self.age)\n",
    "        print(self.percent)\n",
    "a = Student(\"Ashutosh Tiwari\",20,'76%')\n",
    "a.intro()"
   ]
  },
  {
   "cell_type": "code",
   "execution_count": 18,
   "id": "6c22909a-951b-4deb-aaff-f12c49655293",
   "metadata": {},
   "outputs": [
    {
     "name": "stdout",
     "output_type": "stream",
     "text": [
      "The total amount is 500\n",
      "The Amount added in the current balance is 300\n"
     ]
    },
    {
     "data": {
      "text/plain": [
       "500"
      ]
     },
     "execution_count": 18,
     "metadata": {},
     "output_type": "execute_result"
    }
   ],
   "source": [
    "class Account:\n",
    "    def __init__(self,amount,balance):\n",
    "        self.amount = amount\n",
    "        self.__balance = balance\n",
    "    def depo(self):\n",
    "        self.__balance +=self.amount\n",
    "        print(f\"The total amount is {self.__balance}\")\n",
    "        print(f\"The Amount added in the current balance is {self.amount}\")\n",
    "    def get_bal(self):\n",
    "        return self.__balance\n",
    "a = Account(300,200)\n",
    "a.depo()\n",
    "a.get_bal()"
   ]
  },
  {
   "cell_type": "code",
   "execution_count": 31,
   "id": "b6ded8c3-16aa-4fa6-a547-2bbb54c36405",
   "metadata": {},
   "outputs": [
    {
     "data": {
      "text/plain": [
       "'Ashutosh'"
      ]
     },
     "execution_count": 31,
     "metadata": {},
     "output_type": "execute_result"
    }
   ],
   "source": [
    "class Book:\n",
    "    def __init__(self,title,author):\n",
    "        self.__title = title\n",
    "        self.__author = author\n",
    "    def get_title(self):\n",
    "        return self.__title\n",
    "    def set_title(self):\n",
    "        self.__title = title\n",
    "    def get_author(self):\n",
    "        return self.__author\n",
    "    def set_author(self):\n",
    "        self.__author = author\n",
    "\n",
    "a = Book(\"Virat Kohli\",\"Ashutosh\")\n",
    "a.get_title()\n",
    "a.get_author()"
   ]
  },
  {
   "cell_type": "code",
   "execution_count": 35,
   "id": "bdc35a8d-445e-4b92-b838-132711fe3a4b",
   "metadata": {},
   "outputs": [
    {
     "data": {
      "text/plain": [
       "144.44"
      ]
     },
     "execution_count": 35,
     "metadata": {},
     "output_type": "execute_result"
    }
   ],
   "source": [
    "class Circle:\n",
    "    def __init__(self,radius):\n",
    "        self.__radius = radius\n",
    "    def set_radius(self):\n",
    "        self.__radius = radius\n",
    "    def get_area(self):\n",
    "        return self.__radius*3.14*2\n",
    "\n",
    "a = Circle(23)\n",
    "a.get_area()"
   ]
  },
  {
   "cell_type": "code",
   "execution_count": 39,
   "id": "c4574d0c-ebd9-4547-abb2-164d2451e452",
   "metadata": {},
   "outputs": [
    {
     "data": {
      "text/plain": [
       "88"
      ]
     },
     "execution_count": 39,
     "metadata": {},
     "output_type": "execute_result"
    }
   ],
   "source": [
    "class Rectangle:\n",
    "    def __init__(self,length,width):\n",
    "        self.__length = length\n",
    "        self.__width = width\n",
    "    def set_length(self):\n",
    "        self.__length = length\n",
    "    def set_width(self):\n",
    "        self.__width = width\n",
    "    def get_area(self):\n",
    "        return self.__length*self.__width\n",
    "    def get_parameter(self):\n",
    "        return (self.__length+self.__width)*2\n",
    "a = Rectangle(24,20)\n",
    "a.get_area()\n",
    "a.get_parameter()"
   ]
  },
  {
   "cell_type": "code",
   "execution_count": 46,
   "id": "8bb75972-c593-4f97-ac36-f7957103154b",
   "metadata": {},
   "outputs": [
    {
     "data": {
      "text/plain": [
       "['Ashutosh', 'Ravi', 'Meenal', 'Yashika', 'Harsh']"
      ]
     },
     "execution_count": 46,
     "metadata": {},
     "output_type": "execute_result"
    }
   ],
   "source": [
    "class Library:\n",
    "    def __init__(self,book):\n",
    "        self.__book = book\n",
    "    def add(self):\n",
    "        val = input()\n",
    "        self.__book.append(val)\n",
    "        return self.__book\n",
    "    def remove(self):\n",
    "        i = input()\n",
    "        self.__book.remove(i)\n",
    "        return self.__book\n",
    "    def list_all(self):\n",
    "        return self.__book\n",
    "a = Library([\"Ashutosh\",\"Ravi\",\"Meenal\",\"Yashika\",\"Harsh\"])\n",
    "a.list_all()"
   ]
  },
  {
   "cell_type": "code",
   "execution_count": 47,
   "id": "5daa0937-b036-4cd5-adc7-f6654a5b1545",
   "metadata": {},
   "outputs": [
    {
     "name": "stdout",
     "output_type": "stream",
     "text": [
      "The Dog Barks\n",
      "The cat Meows\n"
     ]
    }
   ],
   "source": [
    "class Animal:\n",
    "    def __init__(self,dog,cat):\n",
    "        self.dog = dog\n",
    "        self.cat = cat\n",
    "    def speak(self):\n",
    "        raise NotImplementedError(\"XYZ\")\n",
    "class Dog(Animal):\n",
    "    def speak(self):\n",
    "        print(f\"The Dog {self.dog}\")\n",
    "class Cat(Animal):\n",
    "    def speak(self):\n",
    "        print(f\"The cat {self.cat}\")\n",
    "\n",
    "\n",
    "a = Dog(\"Barks\",\"Meows\")\n",
    "a.speak()\n",
    "b = Cat(\"Barks\",\"Meows\")\n",
    "b.speak()\n",
    "\n"
   ]
  },
  {
   "cell_type": "code",
   "execution_count": 49,
   "id": "5d260b87-ef80-48d0-a983-1643ef65e7f0",
   "metadata": {},
   "outputs": [
    {
     "data": {
      "text/plain": [
       "529"
      ]
     },
     "execution_count": 49,
     "metadata": {},
     "output_type": "execute_result"
    }
   ],
   "source": [
    "class Shape:\n",
    "    def draw(self):\n",
    "        raise NotImplementedError(\"XYZ\")\n",
    "class Circle(Shape):\n",
    "    def __init__(self,radius):\n",
    "        self.radius = radius\n",
    "    def draw(self):\n",
    "        return self.radius*3.14*2\n",
    "class Square(Shape):\n",
    "    def __init__(self,side):\n",
    "        self.side = side\n",
    "    def draw(self):\n",
    "        return self.side**2\n",
    "a = Square(23)\n",
    "a.draw()"
   ]
  },
  {
   "cell_type": "code",
   "execution_count": 51,
   "id": "d6b9b223-b496-4a47-b62f-102e7440a728",
   "metadata": {},
   "outputs": [
    {
     "name": "stdout",
     "output_type": "stream",
     "text": [
      "This method is Credit Card\n"
     ]
    }
   ],
   "source": [
    "class Payment:\n",
    "    def process(self):\n",
    "        raise NotImplementedError(\"XYZ\")\n",
    "class CreditCardPay(Payment):\n",
    "    def __init__(self,method):\n",
    "        self.method = method\n",
    "    def process(self):\n",
    "        print(f\"This method is {self.method}\")\n",
    "class PayPal(Payment):\n",
    "    def __init__(self,newmethod):\n",
    "        self.newmethod = newmethod\n",
    "    def process(self):\n",
    "        print(f\"This method is Known as {self.newmethod} \")\n",
    "a = CreditCardPay(\"Credit Card\")\n",
    "a.process()\n",
    "        "
   ]
  },
  {
   "cell_type": "code",
   "execution_count": 52,
   "id": "3802b4eb-3dfe-4758-ada6-5c0b1c131841",
   "metadata": {},
   "outputs": [
    {
     "data": {
      "text/plain": [
       "600000"
      ]
     },
     "execution_count": 52,
     "metadata": {},
     "output_type": "execute_result"
    }
   ],
   "source": [
    "class Employee:\n",
    "    def cal_sal(self,new):\n",
    "        self.new = new\n",
    "class FullTime(Employee):\n",
    "    def __init__(self,salary):\n",
    "        self.salary = salary\n",
    "    def cal_sal(self):\n",
    "        return self.salary*30\n",
    "class HalfTime(Employee):\n",
    "    def __init__(self,salary):\n",
    "        self.salary = salary\n",
    "    def cal_sal(self):\n",
    "        return self.salary / 2\n",
    "\n",
    "a = FullTime(20000)\n",
    "a.cal_sal()"
   ]
  },
  {
   "cell_type": "code",
   "execution_count": 60,
   "id": "1f700723-e09c-4fee-8adf-ca2584ea2fbc",
   "metadata": {},
   "outputs": [
    {
     "name": "stdout",
     "output_type": "stream",
     "text": [
      "Mini\n"
     ]
    }
   ],
   "source": [
    "class Transport:\n",
    "    def travel(self):\n",
    "        raise NotImplementedError(\"XYZ\")\n",
    "class Car(Transport):\n",
    "    def __init__(self,car):\n",
    "        self.car = car\n",
    "    def travel(self):\n",
    "        print(self.car)\n",
    "class Bicycle(Transport):\n",
    "    def __init__(self,bicycle):\n",
    "        self.bicycle = bicycle\n",
    "    def travel(self):\n",
    "        print(self.bicycle)\n",
    "class Bus(Transport):\n",
    "    def __init__(self,bus):\n",
    "        self.bus = bus\n",
    "    def travel(self):\n",
    "        print(self.bus)\n",
    "a = Bus(\"Mini\")\n",
    "a.travel()"
   ]
  },
  {
   "cell_type": "code",
   "execution_count": 1,
   "id": "1b1b076a-30df-47d9-8f74-df90e9cd003b",
   "metadata": {},
   "outputs": [
    {
     "data": {
      "text/plain": [
       "427.04"
      ]
     },
     "execution_count": 1,
     "metadata": {},
     "output_type": "execute_result"
    }
   ],
   "source": [
    "class Shape:\n",
    "    def area(self):\n",
    "        raise NotImplementedError(\"XYZ\")\n",
    "class Triangle(Shape):\n",
    "    def __init__(self,base,height):\n",
    "        self.__height = height\n",
    "        self.__base = base\n",
    "    def area(self):\n",
    "        return 1/2*self.__height*self.__base\n",
    "class Ellipse(Shape):\n",
    "    def __init__(self,a,b):\n",
    "        self.__a = a\n",
    "        self.__b = b\n",
    "    def area(self):\n",
    "        return 3.14*self.__a*self.__b\n",
    "a = Ellipse(34,4)\n",
    "a.area()"
   ]
  },
  {
   "cell_type": "code",
   "execution_count": 6,
   "id": "5d77a2ec-704a-4702-8cf5-cb47fee79f3a",
   "metadata": {},
   "outputs": [
    {
     "data": {
      "text/plain": [
       "12000.0"
      ]
     },
     "execution_count": 6,
     "metadata": {},
     "output_type": "execute_result"
    }
   ],
   "source": [
    "class Employee:\n",
    "    def __init__(salary):\n",
    "        self.__salary = salary\n",
    "    def cal_sal(self):\n",
    "        raise NotEmplementedError(\"XYZ\")\n",
    "class Manager(Employee):\n",
    "    def __init__(self,salary):\n",
    "        self.__salary = salary\n",
    "    def cal_sal(self):\n",
    "        return self.__salary*2\n",
    "class Intern(Employee):\n",
    "    def __init__(self,salary):\n",
    "        self.__salary = salary\n",
    "    def cal_sal(self):\n",
    "        return self.__salary*1/2\n",
    "\n",
    "b = Intern(24000)\n",
    "b.cal_sal()"
   ]
  },
  {
   "cell_type": "code",
   "execution_count": 9,
   "id": "c409b70f-9bee-4ccd-ad1e-6e3f976e0201",
   "metadata": {},
   "outputs": [
    {
     "name": "stdout",
     "output_type": "stream",
     "text": [
      "This is Sparrow\n",
      "The eagle is Flying\n"
     ]
    }
   ],
   "source": [
    "class Bird:\n",
    "    def __init__(self,bird):\n",
    "        self.birds = birds\n",
    "    def fly(self):\n",
    "        raise NotImplementedError(\"xyz\")\n",
    "class Sparrow(Bird):\n",
    "    def __init__(self,birds):\n",
    "        self.birds = birds\n",
    "    def fly(self):\n",
    "        print(f\"This is {self.birds}\")\n",
    "class Eagle(Bird):\n",
    "    def __init__(self,birds):\n",
    "        self.birds = birds\n",
    "    def fly(self):\n",
    "        print(f\"The eagle is {self.birds}\")\n",
    "    \n",
    "a = [Sparrow(\"Sparrow\"),Eagle(\"Flying\")]\n",
    "for i in a:\n",
    "    i.fly()"
   ]
  },
  {
   "cell_type": "code",
   "execution_count": null,
   "id": "fdf251fa-c152-46a4-9037-334939ce9182",
   "metadata": {},
   "outputs": [],
   "source": []
  }
 ],
 "metadata": {
  "kernelspec": {
   "display_name": "Python 3 (ipykernel)",
   "language": "python",
   "name": "python3"
  },
  "language_info": {
   "codemirror_mode": {
    "name": "ipython",
    "version": 3
   },
   "file_extension": ".py",
   "mimetype": "text/x-python",
   "name": "python",
   "nbconvert_exporter": "python",
   "pygments_lexer": "ipython3",
   "version": "3.11.7"
  }
 },
 "nbformat": 4,
 "nbformat_minor": 5
}
