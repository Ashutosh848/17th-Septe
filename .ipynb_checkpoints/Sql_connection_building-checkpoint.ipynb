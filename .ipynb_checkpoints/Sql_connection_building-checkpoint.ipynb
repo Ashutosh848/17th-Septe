{
 "cells": [
  {
   "cell_type": "code",
   "execution_count": 25,
   "id": "3e67f070-84f3-4133-af35-e8d28f4664f5",
   "metadata": {},
   "outputs": [],
   "source": [
    "import pandas as pd\n",
    "import mysql.connector"
   ]
  },
  {
   "cell_type": "code",
   "execution_count": 26,
   "id": "bf22ca91-d553-4970-8f6c-e50d2e529750",
   "metadata": {},
   "outputs": [],
   "source": [
    "username = 'root'\n",
    "host = '127.0.0.1'\n",
    "password = 'ashu13579'\n",
    "database = 'library'\n",
    "\n",
    "conn = mysql.connector.connect(user = username,host = host,password = password,database = database)\n",
    "cursor = conn.cursor()\n"
   ]
  },
  {
   "cell_type": "code",
   "execution_count": 27,
   "id": "18cb1aa1-d853-4722-b476-d6fc20a5c31e",
   "metadata": {},
   "outputs": [
    {
     "name": "stderr",
     "output_type": "stream",
     "text": [
      "C:\\Users\\delli\\AppData\\Local\\Temp\\ipykernel_15472\\2479898599.py:2: UserWarning: pandas only supports SQLAlchemy connectable (engine/connection) or database string URI or sqlite3 DBAPI2 connection. Other DBAPI2 objects are not tested. Please consider using SQLAlchemy.\n",
      "  df = pd.read_sql_query(q,conn)\n"
     ]
    }
   ],
   "source": [
    "q = \"select * from employee\"\n",
    "df = pd.read_sql_query(q,conn)"
   ]
  },
  {
   "cell_type": "code",
   "execution_count": 28,
   "id": "9af23e90-7bf9-4120-91c5-0c6ab5ab31cf",
   "metadata": {},
   "outputs": [
    {
     "data": {
      "text/html": [
       "<div>\n",
       "<style scoped>\n",
       "    .dataframe tbody tr th:only-of-type {\n",
       "        vertical-align: middle;\n",
       "    }\n",
       "\n",
       "    .dataframe tbody tr th {\n",
       "        vertical-align: top;\n",
       "    }\n",
       "\n",
       "    .dataframe thead th {\n",
       "        text-align: right;\n",
       "    }\n",
       "</style>\n",
       "<table border=\"1\" class=\"dataframe\">\n",
       "  <thead>\n",
       "    <tr style=\"text-align: right;\">\n",
       "      <th></th>\n",
       "      <th>employeeID</th>\n",
       "      <th>FirstName</th>\n",
       "      <th>FamilyName</th>\n",
       "      <th>position</th>\n",
       "      <th>salary</th>\n",
       "      <th>HireDate</th>\n",
       "    </tr>\n",
       "  </thead>\n",
       "  <tbody>\n",
       "    <tr>\n",
       "      <th>0</th>\n",
       "      <td>101</td>\n",
       "      <td>John</td>\n",
       "      <td>Doe</td>\n",
       "      <td>Junior Developer</td>\n",
       "      <td>6600.0</td>\n",
       "      <td>2020-03-15</td>\n",
       "    </tr>\n",
       "    <tr>\n",
       "      <th>1</th>\n",
       "      <td>102</td>\n",
       "      <td>Jane</td>\n",
       "      <td>Smith</td>\n",
       "      <td>Manager</td>\n",
       "      <td>8250.0</td>\n",
       "      <td>2019-06-01</td>\n",
       "    </tr>\n",
       "    <tr>\n",
       "      <th>2</th>\n",
       "      <td>103</td>\n",
       "      <td>Emily</td>\n",
       "      <td>Johnson</td>\n",
       "      <td>Junior Developer</td>\n",
       "      <td>60000.0</td>\n",
       "      <td>2018-11-22</td>\n",
       "    </tr>\n",
       "    <tr>\n",
       "      <th>3</th>\n",
       "      <td>106</td>\n",
       "      <td>David</td>\n",
       "      <td>Wilson</td>\n",
       "      <td>Junior Developer</td>\n",
       "      <td>6820.0</td>\n",
       "      <td>2021-05-25</td>\n",
       "    </tr>\n",
       "    <tr>\n",
       "      <th>4</th>\n",
       "      <td>107</td>\n",
       "      <td>Laura</td>\n",
       "      <td>Martinez</td>\n",
       "      <td>Manager</td>\n",
       "      <td>70000.0</td>\n",
       "      <td>2017-12-15</td>\n",
       "    </tr>\n",
       "    <tr>\n",
       "      <th>5</th>\n",
       "      <td>109</td>\n",
       "      <td>Lisa</td>\n",
       "      <td>Thomas</td>\n",
       "      <td>Junior Developer</td>\n",
       "      <td>5500.0</td>\n",
       "      <td>2020-09-10</td>\n",
       "    </tr>\n",
       "    <tr>\n",
       "      <th>6</th>\n",
       "      <td>110</td>\n",
       "      <td>Kevin</td>\n",
       "      <td>Taylor</td>\n",
       "      <td>Junior Developer</td>\n",
       "      <td>7040.0</td>\n",
       "      <td>2022-04-05</td>\n",
       "    </tr>\n",
       "    <tr>\n",
       "      <th>7</th>\n",
       "      <td>19</td>\n",
       "      <td>Ashutosh</td>\n",
       "      <td>Tiwari</td>\n",
       "      <td>Data Engineer</td>\n",
       "      <td>50000.0</td>\n",
       "      <td>2020-01-02</td>\n",
       "    </tr>\n",
       "  </tbody>\n",
       "</table>\n",
       "</div>"
      ],
      "text/plain": [
       "   employeeID FirstName FamilyName          position   salary    HireDate\n",
       "0         101      John        Doe  Junior Developer   6600.0  2020-03-15\n",
       "1         102      Jane      Smith           Manager   8250.0  2019-06-01\n",
       "2         103     Emily    Johnson  Junior Developer  60000.0  2018-11-22\n",
       "3         106     David     Wilson  Junior Developer   6820.0  2021-05-25\n",
       "4         107     Laura   Martinez           Manager  70000.0  2017-12-15\n",
       "5         109      Lisa     Thomas  Junior Developer   5500.0  2020-09-10\n",
       "6         110     Kevin     Taylor  Junior Developer   7040.0  2022-04-05\n",
       "7          19  Ashutosh     Tiwari     Data Engineer  50000.0  2020-01-02"
      ]
     },
     "execution_count": 28,
     "metadata": {},
     "output_type": "execute_result"
    }
   ],
   "source": [
    "df"
   ]
  },
  {
   "cell_type": "code",
   "execution_count": null,
   "id": "d35a0385-e3bc-414d-9c4f-394c41325ef2",
   "metadata": {},
   "outputs": [],
   "source": []
  }
 ],
 "metadata": {
  "kernelspec": {
   "display_name": "Python 3 (ipykernel)",
   "language": "python",
   "name": "python3"
  },
  "language_info": {
   "codemirror_mode": {
    "name": "ipython",
    "version": 3
   },
   "file_extension": ".py",
   "mimetype": "text/x-python",
   "name": "python",
   "nbconvert_exporter": "python",
   "pygments_lexer": "ipython3",
   "version": "3.11.7"
  }
 },
 "nbformat": 4,
 "nbformat_minor": 5
}
