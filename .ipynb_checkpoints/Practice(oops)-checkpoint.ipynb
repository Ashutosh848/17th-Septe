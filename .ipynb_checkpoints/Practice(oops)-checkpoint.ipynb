{
 "cells": [
  {
   "cell_type": "code",
   "execution_count": 1,
   "id": "320453da-5cef-43c0-85f3-14d0259e025a",
   "metadata": {},
   "outputs": [
    {
     "name": "stdout",
     "output_type": "stream",
     "text": [
      "150.72\n",
      "1808.64\n"
     ]
    }
   ],
   "source": [
    "class Circle:\n",
    "  def __init__(self,radius):\n",
    "    self.radius = radius\n",
    "  def circum(self):\n",
    "    return 2*3.14*self.radius\n",
    "  def area(self):\n",
    "    return 3.14*self.radius**2\n",
    "\n",
    "\n",
    "a = Circle(24)\n",
    "print(a.circum())\n",
    "print(a.area())"
   ]
  },
  {
   "cell_type": "code",
   "execution_count": 2,
   "id": "55974aab-bf4d-4374-83f6-d36e5fbf2c67",
   "metadata": {},
   "outputs": [
    {
     "name": "stdout",
     "output_type": "stream",
     "text": [
      "The Car was developed in 2024 and the current model is ZXI.The car is Tarzan The wonder car\n"
     ]
    }
   ],
   "source": [
    "class Car:\n",
    "  def __init__(self,make,model,year):\n",
    "    self.make = make\n",
    "    self.model = model\n",
    "    self.year = year\n",
    "  def result(self):\n",
    "    print(f\"The Car was developed in {self.year} and the current model is {self.model}.The car is {self.make}\")\n",
    "\n",
    "a = Car(\"Tarzan The wonder car\",\"ZXI\",2024)\n",
    "a.result()"
   ]
  },
  {
   "cell_type": "code",
   "execution_count": 3,
   "id": "1a738594-e7ef-4f68-a8f5-ffbbc7bd8d84",
   "metadata": {},
   "outputs": [
    {
     "data": {
      "text/plain": [
       "2160"
      ]
     },
     "execution_count": 3,
     "metadata": {},
     "output_type": "execute_result"
    }
   ],
   "source": [
    "class Rectangle:\n",
    "  def __init__(self,weight,height):\n",
    "    self.weight = weight\n",
    "    self.height = height\n",
    "  def area(self):\n",
    "    return self.height * self.weight\n",
    "  def parameter(self):\n",
    "    return 2*(self.height*self.weight)\n",
    "\n",
    "a = Rectangle(24,45)\n",
    "a.area()\n",
    "a.parameter()\n"
   ]
  },
  {
   "cell_type": "code",
   "execution_count": 4,
   "id": "97169866-1ec6-452e-ac2b-5ba2fcc2c8c8",
   "metadata": {},
   "outputs": [
    {
     "name": "stdout",
     "output_type": "stream",
     "text": [
      "21\n"
     ]
    }
   ],
   "source": [
    "class Person:\n",
    "  def __init__(self,name,age):\n",
    "    self.name = name\n",
    "    self.age = age\n",
    "  def celebrate_birth(self):\n",
    "    if(self.age>=1):\n",
    "      self.age = self.age+1\n",
    "    print(self.age)\n",
    "\n",
    "a = Person(\"Ashutosh\",20)\n",
    "a.celebrate_birth()"
   ]
  },
  {
   "cell_type": "code",
   "execution_count": 5,
   "id": "055eaf26-2c6f-4df7-899d-d566683bc62a",
   "metadata": {},
   "outputs": [
    {
     "name": "stdout",
     "output_type": "stream",
     "text": [
      "1200\n",
      "300\n",
      "910\n",
      "None\n"
     ]
    }
   ],
   "source": [
    "class Bankac:\n",
    "  def __init__(self,deposit,withdraw,cb):\n",
    "    self.deposit = deposit\n",
    "    self.withdraw = withdraw\n",
    "    self.cb = cb\n",
    "  def dp(self):\n",
    "    return self.deposit\n",
    "  def how(self):\n",
    "    if self.cb>0:\n",
    "      return self.withdraw\n",
    "  def cbi(self):\n",
    "    if(self.cb>0):\n",
    "      self.cb = (self.deposit + self.cb) - self.withdraw\n",
    "      print(self.cb)\n",
    "\n",
    "a = Bankac(1200,300,10)\n",
    "print(a.dp())\n",
    "print(a.how())\n",
    "print(a.cbi())"
   ]
  },
  {
   "cell_type": "code",
   "execution_count": 6,
   "id": "509ea7b5-6cd7-428c-b1bc-7edf16a14992",
   "metadata": {},
   "outputs": [
    {
     "name": "stdout",
     "output_type": "stream",
     "text": [
      "The sound is as following\n",
      "The Dog Barks\n"
     ]
    }
   ],
   "source": [
    "class Animal:\n",
    "  def __init__(self,dog,cat):\n",
    "    self.dog = dog\n",
    "    self.cat = cat\n",
    "  def make_sound(self):\n",
    "    print(\"The sound is as following\")\n",
    "class Dog(Animal):\n",
    "  def make_sound(self):\n",
    "    print(f\"The Dog {self.dog}\")\n",
    "class Cat(Animal):\n",
    "  def make_sound(self):\n",
    "    print(f\"Cat makes {self.cat}\")\n",
    "\n",
    "a = Animal(\"Bark\",\"Meow\")\n",
    "a.make_sound()\n",
    "b = Dog(\"Barks\",\"Meow\")\n",
    "b.make_sound()"
   ]
  },
  {
   "cell_type": "code",
   "execution_count": 7,
   "id": "37a47787-22d9-49cb-8760-9123bec3b3f4",
   "metadata": {},
   "outputs": [
    {
     "name": "stdout",
     "output_type": "stream",
     "text": [
      "50.0\n",
      "Good\n"
     ]
    }
   ],
   "source": [
    "class Student:\n",
    "  def __init__(self,eng,hin,maths,grade):\n",
    "    self.eng = eng\n",
    "    self.hin = hin\n",
    "    self.maths = maths\n",
    "    self.grade = grade\n",
    "  def avg(self):\n",
    "    self.grade = self.eng + self.hin + self.maths\n",
    "    average = self.grade / 3\n",
    "    print(average)\n",
    "    if(average>=50):\n",
    "      print(\"Good\")\n",
    "    else:\n",
    "      print(\"Bad\")\n",
    "\n",
    "a = Student(50,50,50,0)\n",
    "a.avg()"
   ]
  },
  {
   "cell_type": "code",
   "execution_count": 8,
   "id": "9e71e7d3-d7ab-477f-92f7-a835840cd7f4",
   "metadata": {},
   "outputs": [
    {
     "name": "stdout",
     "output_type": "stream",
     "text": [
      "The Title of the Book is Virat Kohli \n",
      "The author of the Book is Ashutosh Tiwari \n",
      "The pages in the book are 230 \n"
     ]
    }
   ],
   "source": [
    "class Book:\n",
    "    def __init__(self,title,author,pages):\n",
    "        self.title = title\n",
    "        self.author = author\n",
    "        self.pages = pages\n",
    "    def display(self):\n",
    "        print(f\"The Title of the Book is {self.title} \")\n",
    "        print(f\"The author of the Book is {self.author} \")\n",
    "        print(f\"The pages in the book are {self.pages} \")\n",
    "\n",
    "a = Book(\"Virat Kohli\",\"Ashutosh Tiwari\",230)\n",
    "a.display()"
   ]
  },
  {
   "cell_type": "code",
   "execution_count": 10,
   "id": "46914fa1-e3ae-46b6-b60a-92cfc8a02cbe",
   "metadata": {},
   "outputs": [
    {
     "name": "stdout",
     "output_type": "stream",
     "text": [
      "Provide a Raise\n"
     ]
    }
   ],
   "source": [
    "class Employee:\n",
    "    def __init__(self,name,salary,position):\n",
    "        self.name = name\n",
    "        self.salary = salary\n",
    "        self.position = position\n",
    "    def fall(self):\n",
    "        if(self.salary<10000):\n",
    "            print(\"Provide a Raise\")\n",
    "        else:\n",
    "            print(\"Let him be there\")\n",
    "a = Employee(\"Ashutosh\",5000,\"Data Analyst\")\n",
    "a.fall()\n",
    "        "
   ]
  },
  {
   "cell_type": "code",
   "execution_count": 19,
   "id": "58bfc31c-dd32-4a06-9428-dd75a88ec723",
   "metadata": {},
   "outputs": [
    {
     "name": "stdout",
     "output_type": "stream",
     "text": [
      "Area: 112.5\n",
      "Area: 400\n"
     ]
    }
   ],
   "source": [
    "class Shape:\n",
    "    def area(self):\n",
    "        raise NotImplementedError(\"Subclass Will implement this.\")\n",
    "class Triangle(Shape):\n",
    "    def __init__(self,height,base):\n",
    "        self.height = height\n",
    "        self.base = base\n",
    "    def area(self):\n",
    "        return 1/2 * self.height * self.base\n",
    "class Square(Shape):\n",
    "    def __init__(self,side):\n",
    "        self.side = side\n",
    "    def area(self):\n",
    "        return self.side**2\n",
    "\n",
    "def pa(Shape):\n",
    "    print('Area:',Shape.area())\n",
    "a = Triangle(45,5)\n",
    "b = Square(20)\n",
    "\n",
    "pa(a)\n",
    "pa(b)"
   ]
  },
  {
   "cell_type": "code",
   "execution_count": 25,
   "id": "8c071069-492e-4735-8b0f-d8924bbf7c63",
   "metadata": {},
   "outputs": [
    {
     "name": "stdin",
     "output_type": "stream",
     "text": [
      " 2\n",
      " 1\n"
     ]
    }
   ],
   "source": [
    "class Movie:\n",
    "    def __init__(self,title,director,rating):\n",
    "        self.title = title\n",
    "        self.director = director\n",
    "        self.rating = rating\n",
    "    def update(self):\n",
    "        if(self.rating<5):\n",
    "            self.rating = int(input())\n",
    "\n",
    "a = Movie(\"ad\",\"dad\",int(input()))\n",
    "a.update()"
   ]
  },
  {
   "cell_type": "code",
   "execution_count": 29,
   "id": "f46f0172-51bb-46bb-926c-f20d9b557fab",
   "metadata": {},
   "outputs": [
    {
     "name": "stdin",
     "output_type": "stream",
     "text": [
      " 3\n",
      " xyz\n",
      " jkadk\n",
      " dkadk\n"
     ]
    },
    {
     "name": "stdout",
     "output_type": "stream",
     "text": [
      "['xyz', 'jkadk', 'dkadk']\n",
      "Found\n",
      "Not Founded\n",
      "Not Founded\n"
     ]
    }
   ],
   "source": [
    "class Library:\n",
    "    def __init__(self,books,list1):\n",
    "        self.books = books\n",
    "        self.list1 = list1\n",
    "    def many(self):\n",
    "        n = int(input())\n",
    "        for i in range(n):\n",
    "            val = input()\n",
    "            self.list1.append(val)\n",
    "        print(self.list1)\n",
    "        for x in self.list1:\n",
    "            if(x==\"xyz\"):\n",
    "                print(\"Found\")\n",
    "            else:\n",
    "                print(\"Not Founded\")\n",
    "\n",
    "a = Library(\"xyz\",[])\n",
    "a.many()"
   ]
  },
  {
   "cell_type": "code",
   "execution_count": 34,
   "id": "b9287690-ad85-44fc-ba53-1d713fc4153e",
   "metadata": {},
   "outputs": [
    {
     "name": "stdin",
     "output_type": "stream",
     "text": [
      "Plz update your email asdh.com\n",
      "Plz update your email sdhad.gmail\n"
     ]
    },
    {
     "name": "stdout",
     "output_type": "stream",
     "text": [
      "Updated Email is :sdhad.gmail \n"
     ]
    }
   ],
   "source": [
    "class Contact:\n",
    "    def __init__(self,name,phone,email):\n",
    "        self.name = name\n",
    "        self.phone = phone\n",
    "        self.email = email\n",
    "    def update(self):\n",
    "        while(self.email.endswith(\".com\")):\n",
    "            self.email = input(\"Plz update your email\")\n",
    "        print(f\"Updated Email is :{self.email} \")\n",
    "\n",
    "a = Contact(\"Ashutosh\",732981,\"ashut.com\")\n",
    "a.update()"
   ]
  },
  {
   "cell_type": "markdown",
   "id": "ed937162-e1bb-4388-b973-8ab22e29792a",
   "metadata": {},
   "source": [
    "Inheritance"
   ]
  },
  {
   "cell_type": "code",
   "execution_count": null,
   "id": "fa67b789-78cf-4f90-a4a8-ca8388530e9d",
   "metadata": {},
   "outputs": [],
   "source": []
  }
 ],
 "metadata": {
  "kernelspec": {
   "display_name": "Python 3 (ipykernel)",
   "language": "python",
   "name": "python3"
  },
  "language_info": {
   "codemirror_mode": {
    "name": "ipython",
    "version": 3
   },
   "file_extension": ".py",
   "mimetype": "text/x-python",
   "name": "python",
   "nbconvert_exporter": "python",
   "pygments_lexer": "ipython3",
   "version": "3.11.7"
  }
 },
 "nbformat": 4,
 "nbformat_minor": 5
}
