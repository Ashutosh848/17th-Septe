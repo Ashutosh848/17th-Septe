{
 "cells": [
  {
   "cell_type": "code",
   "execution_count": 13,
   "id": "ab759b9a-cc46-4b5d-b5dd-8c4723fa0207",
   "metadata": {},
   "outputs": [
    {
     "name": "stdin",
     "output_type": "stream",
     "text": [
      "Enter a val: 2\n",
      " 12\n",
      " 32\n"
     ]
    },
    {
     "name": "stdout",
     "output_type": "stream",
     "text": [
      "[12, 32]\n",
      "[144, 1024]\n",
      "1024\n"
     ]
    }
   ],
   "source": [
    "a = []\n",
    "n = int(input(\"Enter a val:\"))\n",
    "\n",
    "for i in range(n):\n",
    "    val = int(input())\n",
    "    a.append(val)\n",
    "print(a)\n",
    "def ow(i):\n",
    "    return i**2\n",
    "res = list(map(ow,a))\n",
    "print(res)\n",
    "max = 0\n",
    "for i in res:\n",
    "    if(i>max):\n",
    "        max = i\n",
    "print(max)"
   ]
  },
  {
   "cell_type": "code",
   "execution_count": 17,
   "id": "5710869a-8ae6-4c8c-9cd3-b096b81159b4",
   "metadata": {},
   "outputs": [
    {
     "name": "stdout",
     "output_type": "stream",
     "text": [
      "['ashutosh', 20, 'regex']\n"
     ]
    }
   ],
   "source": [
    "d = {'name':'ashutosh','age':20,'class':'regex'}\n",
    "def e(i):\n",
    "    return i\n",
    "re = list(map(e,d.values()))\n",
    "print(re)"
   ]
  },
  {
   "cell_type": "code",
   "execution_count": 20,
   "id": "29866884-a758-4491-a41f-5ce48c5db235",
   "metadata": {},
   "outputs": [
    {
     "name": "stdout",
     "output_type": "stream",
     "text": [
      "(1, 4, 9, 16, 25, 4765489, 866761)\n"
     ]
    }
   ],
   "source": [
    "tu = (1,2,3,4,5,2183,931)\n",
    "def fo(i):\n",
    "    return i**2\n",
    "fun = tuple(map(fo,tu))\n",
    "print(fun)\n",
    "    "
   ]
  },
  {
   "cell_type": "code",
   "execution_count": 38,
   "id": "2f69eab7-15ef-4d37-806c-61ac3f6ae035",
   "metadata": {},
   "outputs": [
    {
     "name": "stdout",
     "output_type": "stream",
     "text": [
      "<class 'set'> {'Tiwari', 'Ashutosh'}\n",
      "<class 'builtin_function_or_method'> ['Ashutosh', 'Tiwari']\n"
     ]
    }
   ],
   "source": [
    "a = 'Ashutosh Tiwari'\n",
    "def y(i):\n",
    "    return i\n",
    "f = set(map(y,a.split()))\n",
    "print(type(f),f)\n",
    "\n",
    "print(type(a.split),a.split())"
   ]
  },
  {
   "cell_type": "code",
   "execution_count": 49,
   "id": "d9be0ac6-cac9-4e38-a309-e648991a1c26",
   "metadata": {},
   "outputs": [
    {
     "name": "stdout",
     "output_type": "stream",
     "text": [
      "[1, 2, 3, 5]\n"
     ]
    }
   ],
   "source": [
    "a = [1,2,2,3,4,5,5,6,1,3,5]\n",
    "repeat = []\n",
    "for i in a:\n",
    "    if a.count(i)>1:\n",
    "        if i not in repeat:\n",
    "            repeat.append(i)\n",
    "print(repeat)"
   ]
  },
  {
   "cell_type": "code",
   "execution_count": 2,
   "id": "34aaf5fe-03c4-496c-a6a8-bfefdbd52e4f",
   "metadata": {},
   "outputs": [
    {
     "data": {
      "text/plain": [
       "16"
      ]
     },
     "execution_count": 2,
     "metadata": {},
     "output_type": "execute_result"
    }
   ],
   "source": [
    "def cl(n1,n2):\n",
    "    return n1+n2\n",
    "cl(12,4)"
   ]
  },
  {
   "cell_type": "code",
   "execution_count": 9,
   "id": "8dce2777-dc08-4f67-beba-a1ded527261f",
   "metadata": {},
   "outputs": [
    {
     "name": "stdin",
     "output_type": "stream",
     "text": [
      " 4\n",
      " 12\n",
      " 23\n",
      " 45\n",
      " 44\n"
     ]
    },
    {
     "name": "stdout",
     "output_type": "stream",
     "text": [
      "[12, 23, 45, 44]\n",
      "44\n"
     ]
    }
   ],
   "source": [
    "n = int(input())\n",
    "a = []\n",
    "for i in range(n):\n",
    "    val = int(input())\n",
    "    a.append(val)\n",
    "print(a)\n",
    "max = 0\n",
    "for i in a:\n",
    "    if(i>max & i%2==0):\n",
    "        max = i\n",
    "print(max)"
   ]
  },
  {
   "cell_type": "code",
   "execution_count": 26,
   "id": "a0118610-ea43-4360-ba15-44b60510d767",
   "metadata": {},
   "outputs": [
    {
     "ename": "NameError",
     "evalue": "name 'self' is not defined",
     "output_type": "error",
     "traceback": [
      "\u001b[1;31m---------------------------------------------------------------------------\u001b[0m",
      "\u001b[1;31mNameError\u001b[0m                                 Traceback (most recent call last)",
      "Cell \u001b[1;32mIn[26], line 1\u001b[0m\n\u001b[1;32m----> 1\u001b[0m \u001b[38;5;28;01mclass\u001b[39;00m \u001b[38;5;21;01mRock\u001b[39;00m(\u001b[38;5;28mself\u001b[39m):\n\u001b[0;32m      2\u001b[0m     \u001b[38;5;28mself\u001b[39m\u001b[38;5;241m.\u001b[39mname \u001b[38;5;241m=\u001b[39m name\n\u001b[0;32m      3\u001b[0m     \u001b[38;5;28mself\u001b[39m\u001b[38;5;241m.\u001b[39mage \u001b[38;5;241m=\u001b[39m age\n",
      "\u001b[1;31mNameError\u001b[0m: name 'self' is not defined"
     ]
    }
   ],
   "source": [
    "class Detail:\n",
    "    "
   ]
  },
  {
   "cell_type": "code",
   "execution_count": null,
   "id": "64a85125-7c63-4fd1-8337-c25cf171767f",
   "metadata": {},
   "outputs": [],
   "source": []
  }
 ],
 "metadata": {
  "kernelspec": {
   "display_name": "Python 3 (ipykernel)",
   "language": "python",
   "name": "python3"
  },
  "language_info": {
   "codemirror_mode": {
    "name": "ipython",
    "version": 3
   },
   "file_extension": ".py",
   "mimetype": "text/x-python",
   "name": "python",
   "nbconvert_exporter": "python",
   "pygments_lexer": "ipython3",
   "version": "3.11.7"
  }
 },
 "nbformat": 4,
 "nbformat_minor": 5
}
